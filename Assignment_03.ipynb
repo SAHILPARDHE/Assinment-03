{
  "nbformat": 4,
  "nbformat_minor": 0,
  "metadata": {
    "colab": {
      "provenance": []
    },
    "kernelspec": {
      "name": "python3",
      "display_name": "Python 3"
    },
    "language_info": {
      "name": "python"
    }
  },
  "cells": [
    {
      "cell_type": "markdown",
      "source": [
        "1. Create a layout with three boxes side by side using Flexbox. The first box\n",
        "should have twice the width of the other two. Provide the HTML and CSS code\n",
        "snippets.\n",
        "\n",
        "Ans->"
      ],
      "metadata": {
        "id": "mOaaDIvTupuQ"
      }
    },
    {
      "cell_type": "code",
      "source": [
        "<!DOCTYPE html>\n",
        "<html lang=\"en\">\n",
        "\n",
        "<head>\n",
        "    <meta charset=\"UTF-8\">\n",
        "    <meta name=\"viewport\" content=\"width=device-width, initial-scale=1.0\">\n",
        "    <title>Flexbox Layout</title>\n",
        "    <style>\n",
        "        * {\n",
        "            margin: 0;\n",
        "            padding: 0;\n",
        "            box-sizing: border-box;\n",
        "        }\n",
        "\n",
        "        body {\n",
        "            display: flex;\n",
        "            justify-content: center;\n",
        "            align-items: center;\n",
        "            height: 100vh;\n",
        "            background-color: #f2f2f2;\n",
        "        }\n",
        "\n",
        "        .container {\n",
        "            display: flex;\n",
        "            width: 80%;\n",
        "            height: 200px;\n",
        "            gap: 10px;\n",
        "        }\n",
        "\n",
        "        .box {\n",
        "            background-color: lightseagreen;\n",
        "            color: white;\n",
        "            font-size: 1.5em;\n",
        "            display: flex;\n",
        "            justify-content: center;\n",
        "            align-items: center;\n",
        "            border-radius: 8px;\n",
        "        }\n",
        "\n",
        "        .box1 {\n",
        "            flex: 2;\n",
        "            background-color: tomato;\n",
        "        }\n",
        "\n",
        "        .box2,\n",
        "        .box3 {\n",
        "            flex: 1;\n",
        "        }\n",
        "    </style>\n",
        "</head>\n",
        "\n",
        "<body>\n",
        "    <div class=\"container\">\n",
        "        <div class=\"box box1\">Box 1</div>\n",
        "        <div class=\"box box2\">Box 2</div>\n",
        "        <div class=\"box box3\">Box 3</div>\n",
        "    </div>\n",
        "</body>\n",
        "</html>"
      ],
      "metadata": {
        "id": "DT3i-d8Yu9dj"
      },
      "execution_count": null,
      "outputs": []
    },
    {
      "cell_type": "markdown",
      "source": [
        "2. Using CSS Grid, create a 2x2 grid layout where the first row spans two\n",
        "columns, and the second row has two equal columns. Provide the HTML and CSS code snippets.\n",
        "\n",
        "Ans->"
      ],
      "metadata": {
        "id": "3KZQ_iK4vRKb"
      }
    },
    {
      "cell_type": "code",
      "source": [
        "<!DOCTYPE html>\n",
        "<html lang=\"en\">\n",
        "<head>\n",
        "    <meta charset=\"UTF-8\">\n",
        "    <meta name=\"viewport\" content=\"width=device-width, initial-scale=1.0\">\n",
        "    <title>CSS Grid Layout</title>\n",
        "    <style>\n",
        "        * {\n",
        "            margin: 0;\n",
        "            padding: 0;\n",
        "            box-sizing: border-box;\n",
        "        }\n",
        "\n",
        "        body {\n",
        "            display: flex;\n",
        "            justify-content: center;\n",
        "            align-items: center;\n",
        "            height: 100vh;\n",
        "            background-color: #f1f1f1;\n",
        "        }\n",
        "\n",
        "        .grid-container {\n",
        "            display: grid;\n",
        "            width: 80%;\n",
        "            max-width: 600px;\n",
        "            gap: 10px;\n",
        "            grid-template-columns: 1fr 1fr;\n",
        "            grid-template-rows: auto auto;\n",
        "        }\n",
        "\n",
        "        .item {\n",
        "            background-color: steelblue;\n",
        "            color: white;\n",
        "            font-size: 1.5em;\n",
        "            display: flex;\n",
        "            justify-content: center;\n",
        "            align-items: center;\n",
        "            border-radius: 8px;\n",
        "            padding: 20px;\n",
        "        }\n",
        "\n",
        "        .item1 {\n",
        "            grid-column: 1 / span 2;\n",
        "            background-color: tomato;\n",
        "        }\n",
        "    </style>\n",
        "</head>\n",
        "<body>\n",
        "    <div class=\"grid-container\">\n",
        "        <div class=\"item item1\">Header (spans 2 columns)</div>\n",
        "        <div class=\"item item2\">Box 2</div>\n",
        "        <div class=\"item item3\">Box 3</div>\n",
        "    </div>\n",
        "</body>\n",
        "\n",
        "</html>"
      ],
      "metadata": {
        "id": "kr6QlcDavzGG"
      },
      "execution_count": null,
      "outputs": []
    },
    {
      "cell_type": "markdown",
      "source": [
        "3. Write a media query that changes the background color of the body to light\n",
        "grey when the screen width is less than 600px.\n",
        "\n",
        "Ans->"
      ],
      "metadata": {
        "id": "9_TnKsjiv2JK"
      }
    },
    {
      "cell_type": "code",
      "source": [
        "@media (max-width: 600px) {\n",
        "    body {\n",
        "        background-color: lightgrey;\n",
        "    }\n",
        "}\n"
      ],
      "metadata": {
        "id": "Yjf_L-u-v8mp"
      },
      "execution_count": null,
      "outputs": []
    },
    {
      "cell_type": "markdown",
      "source": [
        "4. Create a button that changes its background color to blue and scales up\n",
        "slightly when hovered over, using CSS transitions. Provide the HTML and CSS code snippets.\n",
        "\n",
        "Ans->"
      ],
      "metadata": {
        "id": "VCOWBB9WwPOd"
      }
    },
    {
      "cell_type": "code",
      "source": [
        "<!DOCTYPE html>\n",
        "<html lang=\"en\">\n",
        "\n",
        "<head>\n",
        "    <meta charset=\"UTF-8\">\n",
        "    <meta name=\"viewport\" content=\"width=device-width, initial-scale=1.0\">\n",
        "    <title>Hover Button</title>\n",
        "    <style>\n",
        "        * {\n",
        "            box-sizing: border-box;\n",
        "        }\n",
        "\n",
        "        body {\n",
        "            display: flex;\n",
        "            justify-content: center;\n",
        "            align-items: center;\n",
        "            height: 100vh;\n",
        "            background-color: #f2f2f2;\n",
        "        }\n",
        "\n",
        "        .hover-btn {\n",
        "            background-color: #4CAF50;\n",
        "            color: white;\n",
        "            border: none;\n",
        "            padding: 12px 24px;\n",
        "            font-size: 1.2em;\n",
        "            border-radius: 8px;\n",
        "            cursor: pointer;\n",
        "            transition: background-color 0.3s ease, transform 0.3s ease;\n",
        "        }\n",
        "\n",
        "        .hover-btn:hover {\n",
        "            background-color: blue;\n",
        "            transform: scale(1.1);\n",
        "        }\n",
        "    </style>\n",
        "</head>\n",
        "<body>\n",
        "    <button class=\"hover-btn\">Hover Me</button>\n",
        "</body>\n",
        "</html>"
      ],
      "metadata": {
        "id": "R2F8ja_Bwao-"
      },
      "execution_count": null,
      "outputs": []
    },
    {
      "cell_type": "markdown",
      "source": [
        "5. Use the ::before pseudo-element to add a decorative icon before each list\n",
        "item in an unordered list with the class name ‘decorated-list’. Provide the HTML and CSS code snippets.\n",
        "\n",
        "Ans->\n"
      ],
      "metadata": {
        "id": "SrR2y65ixDtA"
      }
    },
    {
      "cell_type": "code",
      "source": [
        "<!DOCTYPE html>\n",
        "<html lang=\"en\">\n",
        "\n",
        "<head>\n",
        "    <meta charset=\"UTF-8\">\n",
        "    <meta name=\"viewport\" content=\"width=device-width, initial-scale=1.0\">\n",
        "    <title>Decorated List</title>\n",
        "    <style>\n",
        "        .decorated-list {\n",
        "            list-style: none;\n",
        "            padding: 0;\n",
        "        }\n",
        "\n",
        "        .decorated-list li {\n",
        "            position: relative;\n",
        "            margin: 10px 0;\n",
        "            padding-left: 25px;\n",
        "            font-size: 1.2em;\n",
        "        }\n",
        "\n",
        "        .decorated-list li::before {\n",
        "            content: \"🌿\";\n",
        "            position: absolute;\n",
        "            left: 0;\n",
        "            top: 0;\n",
        "            font-size: 1.2em;\n",
        "        }\n",
        "    </style>\n",
        "</head>\n",
        "<body>\n",
        "    <ul class=\"decorated-list\">\n",
        "        <li>Mountains</li>\n",
        "        <li>Rivers</li>\n",
        "        <li>Forests</li>\n",
        "        <li>Oceans</li>\n",
        "    </ul>\n",
        "</body>\n",
        "</html>"
      ],
      "metadata": {
        "id": "fNjsK1MaxSV9"
      },
      "execution_count": null,
      "outputs": []
    },
    {
      "cell_type": "markdown",
      "source": [
        "6. Create a simple animation that moves a square box from left to right\n",
        "infinitely. Provide the HTML and CSS code snippets.\n",
        "\n",
        "Ans->"
      ],
      "metadata": {
        "id": "a6xKTD27xone"
      }
    },
    {
      "cell_type": "code",
      "source": [
        "<!DOCTYPE html>\n",
        "<html lang=\"en\">\n",
        "\n",
        "<head>\n",
        "    <meta charset=\"UTF-8\">\n",
        "    <meta name=\"viewport\" content=\"width=device-width, initial-scale=1.0\">\n",
        "    <title>Moving Box Animation</title>\n",
        "    <style>\n",
        "        body {\n",
        "            display: flex;\n",
        "            align-items: center;\n",
        "            height: 100vh;\n",
        "            background-color: #f2f2f2;\n",
        "            overflow: hidden;\n",
        "        }\n",
        "\n",
        "        .box {\n",
        "            width: 100px;\n",
        "            height: 100px;\n",
        "            background-color: tomato;\n",
        "            position: relative;\n",
        "            animation: moveBox 3s linear infinite;\n",
        "        }\n",
        "\n",
        "        @keyframes moveBox {\n",
        "            0% {\n",
        "                left: 0;\n",
        "            }\n",
        "\n",
        "            50% {\n",
        "                left: calc(100% - 100px);\n",
        "            }\n",
        "\n",
        "            100% {\n",
        "                left: 0;\n",
        "            }\n",
        "        }\n",
        "    </style>\n",
        "</head>\n",
        "<body>\n",
        "    <div class=\"box\"></div>\n",
        "</body>\n",
        "</html>"
      ],
      "metadata": {
        "id": "3so8vF6pxyDl"
      },
      "execution_count": null,
      "outputs": []
    },
    {
      "cell_type": "markdown",
      "source": [
        "7. Explain the difference between position: absolute; and position: fixed;\n",
        "in CSS.\n",
        "\n",
        "Ans->\n",
        "  \n",
        "  - Introduction:-\n",
        "    \n",
        "    - In CSS, the position property controls how an element is placed on a web page. It allows precise placement and determines whether an element affects or is affected by other elements. Two common values for this property are absolute and fixed. Both remove an element from the normal flow of the document, but they behave differently in relation to the page and other elements.\n",
        "\n",
        "  - position: absolute;\n",
        "\n",
        "    - An element with position: absolute; is positioned relative to its nearest positioned ancestor. A “positioned ancestor” is any parent element that has a position value other than static (like relative, absolute, or fixed). If no such ancestor exists, it is positioned relative to the html element.\n",
        "\n",
        "    - Characteristics:-\n",
        "\n",
        "      - Can be precisely positioned using top, right, bottom, and left properties.\n",
        "      - Moves when the page is scrolled (scrolls with the page).\n",
        "      - Useful for elements that need to appear in a specific location inside a container, like tooltips, pop-ups, or images inside a box.\n",
        "\n",
        "  - Example:-"
      ],
      "metadata": {
        "id": "G_xu5-TVyEO8"
      }
    },
    {
      "cell_type": "code",
      "source": [
        ".parent {\n",
        "  position: relative;\n",
        "  width: 300px;\n",
        "  height: 200px;\n",
        "  background-color: lightblue;\n",
        "}\n",
        "\n",
        ".child {\n",
        "  position: absolute;\n",
        "  top: 20px;\n",
        "  left: 30px;\n",
        "  background-color: orange;\n",
        "  padding: 10px;\n",
        "}\n"
      ],
      "metadata": {
        "id": "B6awdg9GzsyY"
      },
      "execution_count": null,
      "outputs": []
    },
    {
      "cell_type": "markdown",
      "source": [
        "  \n",
        "  - position: fixed;\n",
        "\n",
        "    - An element with position: fixed; is positioned relative to the browser viewport. It stays in the same place on the screen, regardless of scrolling.\n",
        "\n",
        "    - Characteristics:-\n",
        "\n",
        "      - Removed from the normal flow of the document.\n",
        "      - Positioned using top, right, bottom, and left properties relative to the viewport.\n",
        "      - Commonly used for sticky headers, floating buttons, or navigation menus.\n",
        "\n",
        "  - Example:-"
      ],
      "metadata": {
        "id": "sQXfVRdXzwpf"
      }
    },
    {
      "cell_type": "code",
      "source": [
        ".fixed-box {\n",
        "  position: fixed;\n",
        "  top: 10px;\n",
        "  right: 10px;\n",
        "  background-color: green;\n",
        "  padding: 10px;\n",
        "}\n"
      ],
      "metadata": {
        "id": "DjQGhbfM0M09"
      },
      "execution_count": null,
      "outputs": []
    },
    {
      "cell_type": "markdown",
      "source": [
        "8. Create a layered layout where a semi-transparent overlay covers an image\n",
        "using z-index. Provide the HTML and CSS code snippets.\n",
        "\n",
        "Ans->"
      ],
      "metadata": {
        "id": "H9fj573G0S2-"
      }
    },
    {
      "cell_type": "code",
      "source": [
        "<!DOCTYPE html>\n",
        "<html lang=\"en\">\n",
        "\n",
        "<head>\n",
        "    <meta charset=\"UTF-8\">\n",
        "    <meta name=\"viewport\" content=\"width=device-width, initial-scale=1.0\">\n",
        "    <title>Image Overlay Example</title>\n",
        "    <style>\n",
        "        body {\n",
        "            font-family: Arial, sans-serif;\n",
        "            display: flex;\n",
        "            justify-content: center;\n",
        "            align-items: center;\n",
        "            height: 100vh;\n",
        "            margin: 0;\n",
        "            background-color: #f0f0f0;\n",
        "        }\n",
        "\n",
        "        .image-container {\n",
        "            position: relative;\n",
        "            width: 600px;\n",
        "            height: 400px;\n",
        "        }\n",
        "\n",
        "        .background-image {\n",
        "            width: 100%;\n",
        "            height: 100%;\n",
        "            display: block;\n",
        "            object-fit: cover;\n",
        "        }\n",
        "\n",
        "        .overlay {\n",
        "            position: absolute;\n",
        "            top: 0;\n",
        "            left: 0;\n",
        "            width: 100%;\n",
        "            height: 100%;\n",
        "            background-color: rgba(0, 0, 0, 0.5);\n",
        "            color: #fff;\n",
        "            display: flex;\n",
        "            flex-direction: column;\n",
        "            justify-content: center;\n",
        "            align-items: center;\n",
        "            text-align: center;\n",
        "            z-index: 1;\n",
        "        }\n",
        "\n",
        "        .overlay h2 {\n",
        "            margin: 0 0 10px 0;\n",
        "        }\n",
        "\n",
        "        .overlay p {\n",
        "            margin: 0;\n",
        "        }\n",
        "    </style>\n",
        "</head>\n",
        "\n",
        "<body>\n",
        "    <div class=\"image-container\">\n",
        "        <img src=\"https://images.unsplash.com/photo-1526779259212-939e64788e3c?fm=jpg&q=60&w=3000&ixlib=rb-4.1.0&ixid=M3wxMjA3fDB8MHxzZWFyY2h8NHx8ZnJlZSUyMGltYWdlc3xlbnwwfHwwfHx8MA%3D%3D\"\n",
        "            alt=\"Sample Image\" class=\"background-image\">\n",
        "        <div class=\"overlay\">\n",
        "            <h2>Overlay Text</h2>\n",
        "            <p>This is a semi-transparent overlay.</p>\n",
        "        </div>\n",
        "    </div>\n",
        "</body>\n",
        "\n",
        "</html>"
      ],
      "metadata": {
        "id": "83xQtQkW0gL0"
      },
      "execution_count": null,
      "outputs": []
    }
  ]
}